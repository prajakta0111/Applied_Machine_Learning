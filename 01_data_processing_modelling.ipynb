{
 "cells": [
  {
   "cell_type": "markdown",
   "metadata": {
    "colab_type": "text",
    "id": "R--G1S4LFVR9"
   },
   "source": [
    "CSCI-P556: Applied Machine Learning\n",
    "Fall 2018\n",
    "Assignment #2\n",
    "---\n",
    "\n"
   ]
  },
  {
   "cell_type": "markdown",
   "metadata": {
    "colab_type": "text",
    "id": "Ooye3d-VGooZ"
   },
   "source": [
    "## Problem 1 (50 points)\n",
    "\n",
    "In this problem you will be working with Bank Marketing Dataset. We encourage your to look at the description and make yourself comfortable with it: https://archive.ics.uci.edu/ml/datasets/bank+marketing\n",
    "\n",
    "Two pairs of training and validation sets have been drawn from this dataset for you to work with, namely: \n",
    " -  `train_1.csv` and `valid_1.csv`\n",
    " -  `train_2.csv`and `valid_2.csv`\n",
    " \n",
    "Finally, we have also provided a `test.csv` which is common for both settings.\n",
    "\n",
    "### Task 0: (3 points)\n",
    "\n",
    "What is the difference between the two sets of train/validation sets? Write your answer here:\n",
    "\n",
    "### Ans: \n",
    "\n",
    "The valid_2 dataset is highly unbalanced. There are 7000 odd entries of which 6388 are no and 846 are yes. This is highly skewed towards a no prediction.\n",
    "Also the train_2 dataset is the heaviest with 28000 entries.\n"
   ]
  },
  {
   "cell_type": "markdown",
   "metadata": {
    "colab_type": "text",
    "id": "MFKZT4mhJlSK"
   },
   "source": [
    "### Task 1 (Data Preprocessing) (12 points)\n",
    "\n",
    "Before you can train a machine learning model using this dataset, you will have to run a number of preprocessing steps to transform the data into a form which will be acceptable to the model. In this task, you are supposed to carry out the follow steps:\n",
    "\n",
    "1.  Find all features that have continuous numeric values and normalize them in the same way as you did in Assignment 1. List those features here.\n",
    "2. Find all categorical features and process them as was discussed in class. List those features and explain what you did.\n",
    "3. Are there any features which have missing values? (Hint: Missing values aren't always nicely represented and can be misleading sometimes). Find those features and explain how you will handle them.\n",
    "\n"
   ]
  },
  {
   "cell_type": "markdown",
   "metadata": {
    "colab_type": "text",
    "id": "uLoZ67_hPo9I"
   },
   "source": [
    "Write your text-based answers here.\n",
    "\n",
    "\n",
    "1.  Answer for bullet one :\n",
    "    The features having continuous numeric values are age,balance,day,duration,campaign,pdays,previous\n",
    "2.  Answer for bullet two :\n",
    "    The categorical features are job,marital,education,default,housing,loan,contact,month,poutcome,y\n",
    "    To identify the categorical features I checked their data type and except the final prediction (\"y\") column, I passed all\n",
    "    those to a function called one_hot which I wrote. In this function, using pd.get_dummies we create a one hot encoding \n",
    "    scheme for all the categorical data. \n",
    "3.  Answer for bullet three :\n",
    "    The column pdays has missing values where -1 represents the missing data. First I checked if there are occurences of 0 in\n",
    "    the pdays column. There is no entry with value 0. So, I replaced the missing -1 data with 0. The reason I did this is, \n",
    "    replacing by 0 ensures that we impute the missing values with the average of the remaining values in the column. So then, I \n",
    "    replaced the 0 with the mean of the column.\n",
    "\n"
   ]
  },
  {
   "cell_type": "code",
   "execution_count": 1,
   "metadata": {
    "colab": {},
    "colab_type": "code",
    "id": "-kxn7ZjCJpJ2"
   },
   "outputs": [],
   "source": [
    "# PROBLEM 1, TASK 1 CODE GOES HERE\n",
    "import pandas as pd\n",
    "import numpy as np\n",
    "from sklearn import preprocessing"
   ]
  },
  {
   "cell_type": "code",
   "execution_count": 2,
   "metadata": {},
   "outputs": [],
   "source": [
    "# read the csv\n",
    "data = pd.read_csv(\"C:/Users/meetp/Downloads/train_1.csv\",sep=\",\")\n",
    "data_valid = pd.read_csv(\"C:/Users/meetp/Downloads/valid_1.csv\",sep=\",\")\n",
    "data1 = pd.read_csv(\"C:/Users/meetp/Downloads/train_2.csv\",sep=\",\")\n",
    "data1_valid = pd.read_csv(\"C:/Users/meetp/Downloads/valid_2.csv\",sep=\",\")\n",
    "data_test = pd.read_csv(\"C:/Users/meetp/Downloads/test.csv\",sep=\",\")"
   ]
  },
  {
   "cell_type": "code",
   "execution_count": 3,
   "metadata": {},
   "outputs": [],
   "source": [
    "\n",
    "# # check datatype of the columns\n",
    "# for c in data.columns:\n",
    "#     print(c)\n",
    "#     print(data[c].dtype.name)\n",
    "#     print(\"-\" *10)"
   ]
  },
  {
   "cell_type": "code",
   "execution_count": 4,
   "metadata": {},
   "outputs": [],
   "source": [
    "# converting datatype from object to category\n",
    "def convert_dt(data):\n",
    "    for c in data.columns:\n",
    "        if(data[c].dtype.name == 'object'):\n",
    "            data[c] = data[c].astype('category')"
   ]
  },
  {
   "cell_type": "code",
   "execution_count": 5,
   "metadata": {},
   "outputs": [],
   "source": [
    "convert_dt(data)\n",
    "convert_dt(data_valid)\n",
    "convert_dt(data1)\n",
    "convert_dt(data1_valid)\n",
    "convert_dt(data_test)"
   ]
  },
  {
   "cell_type": "code",
   "execution_count": 6,
   "metadata": {},
   "outputs": [],
   "source": [
    "# normalize numeric data\n",
    "def normalize(data):\n",
    "    # impute missing value with average \n",
    "    # missing values in pdays were marked by -1. There is no data with value 0 in pdays. \n",
    "    # Hence, replacing -1 with 0 so that we can impute the missing data with average.\n",
    "    data['pdays'] = data['pdays'].replace(-1, 0)\n",
    "    data['pdays'] = data['pdays'].replace(0, data['pdays'].mean())\n",
    "    \n",
    "    for col in data.columns:\n",
    "        if(data[col].dtype.name != 'category'):\n",
    "            mean=data[col].mean()\n",
    "            std=data[col].std()\n",
    "            data[col] = (data[col] - mean)/std\n"
   ]
  },
  {
   "cell_type": "code",
   "execution_count": 7,
   "metadata": {},
   "outputs": [],
   "source": [
    "normalize(data)\n",
    "normalize(data_valid)\n",
    "normalize(data1)\n",
    "normalize(data1_valid)\n",
    "normalize(data_test)"
   ]
  },
  {
   "cell_type": "code",
   "execution_count": 8,
   "metadata": {},
   "outputs": [
    {
     "data": {
      "text/plain": [
       "(1.1590095276056194e-15, 0.9999999999999236)"
      ]
     },
     "execution_count": 8,
     "metadata": {},
     "output_type": "execute_result"
    }
   ],
   "source": [
    "data['pdays'].mean(),data['pdays'].std()"
   ]
  },
  {
   "cell_type": "code",
   "execution_count": 9,
   "metadata": {},
   "outputs": [],
   "source": [
    "def one_hot(data):\n",
    "    # store the last column\n",
    "    store_y = data['y']\n",
    "\n",
    "    data = pd.get_dummies(data.iloc[:,:-1])\n",
    "\n",
    "    # add the last col again\n",
    "    data['y']=store_y\n",
    "    return data"
   ]
  },
  {
   "cell_type": "code",
   "execution_count": 10,
   "metadata": {},
   "outputs": [],
   "source": [
    "data = one_hot(data)\n",
    "data_valid = one_hot(data_valid)\n",
    "data1 = one_hot(data1)\n",
    "data1_valid = one_hot(data1_valid)\n",
    "data_test = one_hot(data_test)"
   ]
  },
  {
   "cell_type": "code",
   "execution_count": 11,
   "metadata": {},
   "outputs": [],
   "source": [
    "def mapping(data):\n",
    "    # mapping for the last col\n",
    "    dict_map = dict()\n",
    "    y_map = {'yes':1,'no':0}\n",
    "    dict_map['y'] = y_map\n",
    "    data = data.replace(dict_map)\n",
    "    return data"
   ]
  },
  {
   "cell_type": "code",
   "execution_count": 12,
   "metadata": {},
   "outputs": [],
   "source": [
    "data = mapping(data)\n",
    "data_valid = mapping(data_valid)\n",
    "data1 = mapping(data1)\n",
    "data1_valid = mapping(data1_valid)\n",
    "data_test = mapping(data_test)"
   ]
  },
  {
   "cell_type": "code",
   "execution_count": 13,
   "metadata": {},
   "outputs": [
    {
     "data": {
      "text/html": [
       "<div>\n",
       "<style scoped>\n",
       "    .dataframe tbody tr th:only-of-type {\n",
       "        vertical-align: middle;\n",
       "    }\n",
       "\n",
       "    .dataframe tbody tr th {\n",
       "        vertical-align: top;\n",
       "    }\n",
       "\n",
       "    .dataframe thead th {\n",
       "        text-align: right;\n",
       "    }\n",
       "</style>\n",
       "<table border=\"1\" class=\"dataframe\">\n",
       "  <thead>\n",
       "    <tr style=\"text-align: right;\">\n",
       "      <th></th>\n",
       "      <th>age</th>\n",
       "      <th>balance</th>\n",
       "      <th>day</th>\n",
       "      <th>duration</th>\n",
       "      <th>campaign</th>\n",
       "      <th>pdays</th>\n",
       "      <th>previous</th>\n",
       "      <th>job_admin.</th>\n",
       "      <th>job_blue-collar</th>\n",
       "      <th>job_entrepreneur</th>\n",
       "      <th>...</th>\n",
       "      <th>month_mar</th>\n",
       "      <th>month_may</th>\n",
       "      <th>month_nov</th>\n",
       "      <th>month_oct</th>\n",
       "      <th>month_sep</th>\n",
       "      <th>poutcome_failure</th>\n",
       "      <th>poutcome_other</th>\n",
       "      <th>poutcome_success</th>\n",
       "      <th>poutcome_unknown</th>\n",
       "      <th>y</th>\n",
       "    </tr>\n",
       "  </thead>\n",
       "  <tbody>\n",
       "    <tr>\n",
       "      <th>0</th>\n",
       "      <td>-0.104781</td>\n",
       "      <td>-0.240644</td>\n",
       "      <td>-0.936702</td>\n",
       "      <td>0.359446</td>\n",
       "      <td>-0.248401</td>\n",
       "      <td>-0.389459</td>\n",
       "      <td>-0.31535</td>\n",
       "      <td>0</td>\n",
       "      <td>1</td>\n",
       "      <td>0</td>\n",
       "      <td>...</td>\n",
       "      <td>0</td>\n",
       "      <td>1</td>\n",
       "      <td>0</td>\n",
       "      <td>0</td>\n",
       "      <td>0</td>\n",
       "      <td>0</td>\n",
       "      <td>0</td>\n",
       "      <td>0</td>\n",
       "      <td>1</td>\n",
       "      <td>0</td>\n",
       "    </tr>\n",
       "    <tr>\n",
       "      <th>1</th>\n",
       "      <td>0.273138</td>\n",
       "      <td>-0.329521</td>\n",
       "      <td>1.718810</td>\n",
       "      <td>-0.214315</td>\n",
       "      <td>-0.248401</td>\n",
       "      <td>-0.389459</td>\n",
       "      <td>-0.31535</td>\n",
       "      <td>0</td>\n",
       "      <td>0</td>\n",
       "      <td>0</td>\n",
       "      <td>...</td>\n",
       "      <td>0</td>\n",
       "      <td>1</td>\n",
       "      <td>0</td>\n",
       "      <td>0</td>\n",
       "      <td>0</td>\n",
       "      <td>0</td>\n",
       "      <td>0</td>\n",
       "      <td>0</td>\n",
       "      <td>1</td>\n",
       "      <td>0</td>\n",
       "    </tr>\n",
       "    <tr>\n",
       "      <th>2</th>\n",
       "      <td>-0.955100</td>\n",
       "      <td>-0.336984</td>\n",
       "      <td>0.511759</td>\n",
       "      <td>-0.114704</td>\n",
       "      <td>0.727681</td>\n",
       "      <td>-0.389459</td>\n",
       "      <td>-0.31535</td>\n",
       "      <td>0</td>\n",
       "      <td>0</td>\n",
       "      <td>0</td>\n",
       "      <td>...</td>\n",
       "      <td>0</td>\n",
       "      <td>0</td>\n",
       "      <td>0</td>\n",
       "      <td>0</td>\n",
       "      <td>0</td>\n",
       "      <td>0</td>\n",
       "      <td>0</td>\n",
       "      <td>0</td>\n",
       "      <td>1</td>\n",
       "      <td>0</td>\n",
       "    </tr>\n",
       "    <tr>\n",
       "      <th>3</th>\n",
       "      <td>-0.482701</td>\n",
       "      <td>-0.235555</td>\n",
       "      <td>0.873874</td>\n",
       "      <td>-0.413538</td>\n",
       "      <td>0.402320</td>\n",
       "      <td>-0.389459</td>\n",
       "      <td>-0.31535</td>\n",
       "      <td>0</td>\n",
       "      <td>1</td>\n",
       "      <td>0</td>\n",
       "      <td>...</td>\n",
       "      <td>0</td>\n",
       "      <td>1</td>\n",
       "      <td>0</td>\n",
       "      <td>0</td>\n",
       "      <td>0</td>\n",
       "      <td>0</td>\n",
       "      <td>0</td>\n",
       "      <td>0</td>\n",
       "      <td>1</td>\n",
       "      <td>0</td>\n",
       "    </tr>\n",
       "    <tr>\n",
       "      <th>4</th>\n",
       "      <td>-0.671660</td>\n",
       "      <td>0.193906</td>\n",
       "      <td>-1.419523</td>\n",
       "      <td>-0.780107</td>\n",
       "      <td>-0.573762</td>\n",
       "      <td>-0.389459</td>\n",
       "      <td>-0.31535</td>\n",
       "      <td>0</td>\n",
       "      <td>0</td>\n",
       "      <td>0</td>\n",
       "      <td>...</td>\n",
       "      <td>0</td>\n",
       "      <td>0</td>\n",
       "      <td>0</td>\n",
       "      <td>0</td>\n",
       "      <td>0</td>\n",
       "      <td>0</td>\n",
       "      <td>0</td>\n",
       "      <td>0</td>\n",
       "      <td>1</td>\n",
       "      <td>0</td>\n",
       "    </tr>\n",
       "  </tbody>\n",
       "</table>\n",
       "<p>5 rows × 52 columns</p>\n",
       "</div>"
      ],
      "text/plain": [
       "        age   balance       day  duration  campaign     pdays  previous  \\\n",
       "0 -0.104781 -0.240644 -0.936702  0.359446 -0.248401 -0.389459  -0.31535   \n",
       "1  0.273138 -0.329521  1.718810 -0.214315 -0.248401 -0.389459  -0.31535   \n",
       "2 -0.955100 -0.336984  0.511759 -0.114704  0.727681 -0.389459  -0.31535   \n",
       "3 -0.482701 -0.235555  0.873874 -0.413538  0.402320 -0.389459  -0.31535   \n",
       "4 -0.671660  0.193906 -1.419523 -0.780107 -0.573762 -0.389459  -0.31535   \n",
       "\n",
       "   job_admin.  job_blue-collar  job_entrepreneur  ...  month_mar  month_may  \\\n",
       "0           0                1                 0  ...          0          1   \n",
       "1           0                0                 0  ...          0          1   \n",
       "2           0                0                 0  ...          0          0   \n",
       "3           0                1                 0  ...          0          1   \n",
       "4           0                0                 0  ...          0          0   \n",
       "\n",
       "   month_nov  month_oct  month_sep  poutcome_failure  poutcome_other  \\\n",
       "0          0          0          0                 0               0   \n",
       "1          0          0          0                 0               0   \n",
       "2          0          0          0                 0               0   \n",
       "3          0          0          0                 0               0   \n",
       "4          0          0          0                 0               0   \n",
       "\n",
       "   poutcome_success  poutcome_unknown  y  \n",
       "0                 0                 1  0  \n",
       "1                 0                 1  0  \n",
       "2                 0                 1  0  \n",
       "3                 0                 1  0  \n",
       "4                 0                 1  0  \n",
       "\n",
       "[5 rows x 52 columns]"
      ]
     },
     "execution_count": 13,
     "metadata": {},
     "output_type": "execute_result"
    }
   ],
   "source": [
    "data_test.head()"
   ]
  },
  {
   "cell_type": "markdown",
   "metadata": {
    "colab_type": "text",
    "id": "5EaChdKLJjio"
   },
   "source": [
    "### Task 2 (Model $\\mathcal{A}$) (10 points)\n",
    "\n",
    "Train a logistic regression model with $L_2$ regularization on `train_1.csv` after applying the necessary preprocessing steps of Task 1. Use the validation set `valid_1.csv` to choose the best regularization coefficient $\\lambda$. Plot a curve with regularization coefficient in the X axis and the validation accuracy on the Y axis."
   ]
  },
  {
   "cell_type": "code",
   "execution_count": 15,
   "metadata": {
    "colab": {},
    "colab_type": "code",
    "id": "aQGJ10L-KhZh"
   },
   "outputs": [
    {
     "data": {
      "image/png": "[encoded data removed]",
      "text/plain": [
       "<Figure size 432x288 with 1 Axes>"
      ]
     },
     "metadata": {
      "needs_background": "light"
     },
     "output_type": "display_data"
    },
    {
     "name": "stdout",
     "output_type": "stream",
     "text": [
      "Maximum valid accuracy for validation set is at lambda value =  17.543859649122805 with accuracy = 0.8192557590076787\n"
     ]
    }
   ],
   "source": [
    "# PROBLEM 1, TASK 2 CODE GOES HERE\n",
    "#for validation data set \n",
    "from sklearn.linear_model import LogisticRegression\n",
    "import matplotlib.pyplot as plt \n",
    "lambda_c = [i / 1000 for i in range(1,100)]\n",
    "lambdac=[1/i for i in lambda_c]\n",
    "accuracy = []\n",
    "# lambda_c = [0.01,0.05, 0.08,0.09,0.1, 0.11, 0.12,0.2]\n",
    "X_train=data.iloc[:,:-1]\n",
    "y_train=data.iloc[:,-1]\n",
    "X_valid=data_valid.iloc[:,:-1]\n",
    "y_valid=data_valid.iloc[:,-1]\n",
    "X_test=data_test.iloc[:,:-1]\n",
    "y_test=data_test.iloc[:,-1]\n",
    "\n",
    "max_acc = 0\n",
    "max_c = 0\n",
    "\n",
    "for c in lambda_c:\n",
    "    clf1 = LogisticRegression(penalty='l2', C=c, solver='liblinear')\n",
    "    clf1.fit(X_train, y_train)\n",
    "    acc = clf1.score(X_valid, y_valid)\n",
    "    accuracy.append(acc)\n",
    "    if acc > max_acc:\n",
    "        max_acc = acc\n",
    "        max_c = c\n",
    "plt.plot(lambdac, accuracy)\n",
    "plt.xlabel(\"Regularization Coefficient\")\n",
    "plt.ylabel(\"Accuracy\")\n",
    "plt.title(\"Logistic Regression with L2\")\n",
    "plt.show()\n",
    "print('Maximum valid accuracy for validation set is at lambda value = ', 1/max_c, 'with accuracy =', max_acc)"
   ]
  },
  {
   "cell_type": "markdown",
   "metadata": {
    "colab_type": "text",
    "id": "c0UEYv92KnvQ"
   },
   "source": [
    "### Task 3 (Model $\\mathcal{B}$) (5 points)\n",
    "Train a logistic regression model with $L_2$ regularization on `train_2.csv` after applying the necessary preprocessing steps of Task 1. Use the validation set `valid_2.csv` to choose the best regularization coefficient $\\lambda$. Plot a curve with regularization coefficient in the X axis and the validation accuracy on the Y axis."
   ]
  },
  {
   "cell_type": "code",
   "execution_count": 16,
   "metadata": {
    "colab": {},
    "colab_type": "code",
    "id": "izeiBcCTLcM4"
   },
   "outputs": [
    {
     "data": {
      "image/png": "[encoded data removed]",
      "text/plain": [
       "<Figure size 432x288 with 1 Axes>"
      ]
     },
     "metadata": {
      "needs_background": "light"
     },
     "output_type": "display_data"
    },
    {
     "name": "stdout",
     "output_type": "stream",
     "text": [
      "Maximum valid accuracy for validation set is at lambda value =  24.390243902439025 with accuracy = 0.9007464749792646\n"
     ]
    }
   ],
   "source": [
    "# PROBLEM 1, TASK 3 CODE GOES HERE\n",
    "from sklearn.linear_model import LogisticRegression\n",
    "import matplotlib.pyplot as plt \n",
    "lambda_c1 = [i / 1000 for i in range(1,100)]\n",
    "lambdac1=[1/i for i in lambda_c1]\n",
    "accuracy1 = []\n",
    "# lambda_c = [0.01,0.05, 0.08,0.09,0.1, 0.11, 0.12,0.2]\n",
    "X_train=data1.iloc[:,:-1]\n",
    "y_train=data1.iloc[:,-1]\n",
    "X_valid=data1_valid.iloc[:,:-1]\n",
    "y_valid=data1_valid.iloc[:,-1]\n",
    "\n",
    "\n",
    "max_acc1 = 0\n",
    "max_c1 = 0\n",
    "for c in lambda_c1:\n",
    "    clf2 = LogisticRegression(penalty='l2', C=c, solver='liblinear')\n",
    "    clf2.fit(X_train, y_train)\n",
    "    acc1 = clf2.score(X_valid, y_valid)\n",
    "    accuracy1.append(acc1)\n",
    "    if acc1 > max_acc1:\n",
    "        max_acc1 = acc1\n",
    "        max_c1 = c\n",
    "plt.plot(lambdac1, accuracy1)\n",
    "plt.xlabel(\"Regularization Coefficient\")\n",
    "plt.ylabel(\"Accuracy\")\n",
    "plt.title(\"Logistic Regression with L2\")\n",
    "plt.show()\n",
    "print('Maximum valid accuracy for validation set is at lambda value = ', 1/max_c1, 'with accuracy =', max_acc1)"
   ]
  },
  {
   "cell_type": "markdown",
   "metadata": {
    "colab_type": "text",
    "id": "8KzsVhHPLd3P"
   },
   "source": [
    "### Task 4 (Model $\\mathcal{C}$) (10 points)\n",
    "\n",
    "As you have seen in class, due to the specific (and smart) choice of the loss function, a logistic regression classifier happens to predict the posterioir probability $p(y|\\mathbf{x})$ for any given sample. It then classifies the samples with $p(y|\\mathbf{x}) > 0.5$ as belonging to class $1$ and the rest as belonging to class $0$. Instead, for a fixed threshold of $0.5$, let us consider a dynamic threshold of $\\theta$ which can be chosen after a model has been trained.\n",
    "\n",
    "$$\n",
    "\\ y=\n",
    "\\begin{cases}\n",
    "1 \\text{ if } p(y|\\mathbf{x}) \\geq \\theta \\\\\n",
    "\\\\\n",
    "0 \\text{ if } p(y|\\mathbf{x}) < \\theta \\\\\n",
    "\\end{cases}\n",
    "$$\n",
    "\n",
    "for $0 \\leq \\theta \\leq 1$.\n",
    "\n",
    "Train a logistic regression model with $L_2$ regularization on `train_2.csv` after applying the necessary preprocessing steps of Task 1. Use the validation set `valid_2.csv` to choose the best combination of regularization coefficient $\\lambda$ and the threshold $\\theta$. The best coefficients has to be selected by you after trying out at least five, non-consecutive values. Visualize all these runs.\n",
    "\n",
    "**Hint**: Look at the documentation of Logistic Regression in sci-kit learn to come up with a plan to implement this."
   ]
  },
  {
   "cell_type": "code",
   "execution_count": 17,
   "metadata": {
    "colab": {},
    "colab_type": "code",
    "id": "zJRVTjjrSTRm"
   },
   "outputs": [
    {
     "name": "stdout",
     "output_type": "stream",
     "text": [
      "[0.11667127453690904, 0.11432126071329832, 0.11321537185512856, 0.09897705280619298, 0.11376831628421344, 0.09814763616256567, 0.10962123306607686, 0.8411667127453691]\n"
     ]
    },
    {
     "data": {
      "image/png": "[encoded data removed]",
      "text/plain": [
       "<Figure size 432x288 with 1 Axes>"
      ]
     },
     "metadata": {
      "needs_background": "light"
     },
     "output_type": "display_data"
    },
    {
     "name": "stdout",
     "output_type": "stream",
     "text": [
      "[0.11584185789328172, 0.11363008017694222, 0.10865358031517833, 0.09800940005529445, 0.1114183024606027, 0.097732927840752, 0.10478296931158419, 0.7862869781586951]\n"
     ]
    },
    {
     "data": {
      "image/png": "[encoded data removed]",
      "text/plain": [
       "<Figure size 432x288 with 1 Axes>"
      ]
     },
     "metadata": {
      "needs_background": "light"
     },
     "output_type": "display_data"
    },
    {
     "name": "stdout",
     "output_type": "stream",
     "text": [
      "[0.11584185789328172, 0.11307713574785734, 0.10810063588609345, 0.09800940005529445, 0.11100359413878905, 0.09800940005529445, 0.10450649709704175, 0.7778545756151507]\n"
     ]
    },
    {
     "data": {
      "image/png": "[encoded data removed]",
      "text/plain": [
       "<Figure size 432x288 with 1 Axes>"
      ]
     },
     "metadata": {
      "needs_background": "light"
     },
     "output_type": "display_data"
    },
    {
     "name": "stdout",
     "output_type": "stream",
     "text": [
      "[0.11542714957146807, 0.11307713574785734, 0.10754769145700857, 0.09787116394802323, 0.11045064970970417, 0.09828587226983689, 0.1040917887752281, 0.7724633674315732]\n"
     ]
    },
    {
     "data": {
      "image/png": "[encoded data removed]",
      "text/plain": [
       "<Figure size 432x288 with 1 Axes>"
      ]
     },
     "metadata": {
      "needs_background": "light"
     },
     "output_type": "display_data"
    },
    {
     "name": "stdout",
     "output_type": "stream",
     "text": [
      "[0.11528891346419685, 0.1128006635333149, 0.10713298313519491, 0.09856234448437932, 0.10948299695880565, 0.09676527508985347, 0.10353884434614322, 0.7647221454243849]\n"
     ]
    },
    {
     "data": {
      "image/png": "[encoded data removed]",
      "text/plain": [
       "<Figure size 432x288 with 1 Axes>"
      ]
     },
     "metadata": {
      "needs_background": "light"
     },
     "output_type": "display_data"
    },
    {
     "name": "stdout",
     "output_type": "stream",
     "text": [
      "[0.11528891346419685, 0.1128006635333149, 0.10713298313519491, 0.09870058059165054, 0.10948299695880565, 0.09648880287531103, 0.10353884434614322, 0.7638927287807575]\n"
     ]
    },
    {
     "data": {
      "image/png": "[encoded data removed]",
      "text/plain": [
       "<Figure size 432x288 with 1 Axes>"
      ]
     },
     "metadata": {
      "needs_background": "light"
     },
     "output_type": "display_data"
    },
    {
     "name": "stdout",
     "output_type": "stream",
     "text": [
      "[0.11528891346419685, 0.1128006635333149, 0.10699474702792369, 0.09856234448437932, 0.10948299695880565, 0.09648880287531103, 0.10367708045341444, 0.7638927287807575]\n"
     ]
    },
    {
     "data": {
      "image/png": "[encoded data removed]",
      "text/plain": [
       "<Figure size 432x288 with 1 Axes>"
      ]
     },
     "metadata": {
      "needs_background": "light"
     },
     "output_type": "display_data"
    },
    {
     "name": "stdout",
     "output_type": "stream",
     "text": [
      "[0.11528891346419685, 0.1128006635333149, 0.10699474702792369, 0.09856234448437932, 0.10948299695880565, 0.09648880287531103, 0.10367708045341444, 0.7637544926734863]\n"
     ]
    },
    {
     "data": {
      "image/png": "[encoded data removed]",
      "text/plain": [
       "<Figure size 432x288 with 1 Axes>"
      ]
     },
     "metadata": {
      "needs_background": "light"
     },
     "output_type": "display_data"
    },
    {
     "name": "stdout",
     "output_type": "stream",
     "text": [
      "The best accuracy is achieved at accuracy value =  0.8411667127453691 with threshold =  0.99 and regularization coefficient = 100.0\n"
     ]
    }
   ],
   "source": [
    "# PROBLEM 1, TASK 4 CODE GOES HERE\n",
    "from sklearn.metrics import accuracy_score\n",
    "X_train=data1.iloc[:,:-1]\n",
    "y_train=data1.iloc[:,-1]\n",
    "X_valid=data1_valid.iloc[:,:-1]\n",
    "y_valid=data1_valid.iloc[:,-1] \n",
    "accu=[]\n",
    "lambdac = [0.01,0.057,0.09,0.15,2,10,17,39]\n",
    "lambda_c = [1 / lam for lam in lambdac]\n",
    "# print(lambda_c)\n",
    "threshold = [0.05,0.1,0.2,0.55,0.15,0.60,0.30,0.99]\n",
    "\n",
    "max_accuracy = [0,0,0]\n",
    "for i in range(len(lambdac)):\n",
    "    accu=[]\n",
    "    new_pred = []\n",
    "    for j in range(len(threshold)):\n",
    "        clf3 = LogisticRegression(penalty='l2', C=lambdac[i],solver='liblinear')\n",
    "        clf3.fit(X_train, y_train)\n",
    "        new_pred=(clf3.predict_proba(X_valid)[:,:1]>=threshold[j])\n",
    "        temp = accuracy_score(y_valid, new_pred)\n",
    "        if temp > max_accuracy[0]:\n",
    "            max_accuracy[0] = temp\n",
    "            max_accuracy[1] = threshold[j]\n",
    "            max_accuracy[2] = lambda_c[i]\n",
    "        accu.append(temp)\n",
    "        \n",
    "    print(accu)\n",
    "\n",
    "    \n",
    "    plt.plot(lambda_c,accu)\n",
    "    plt.xlabel(\"Regularization Coefficient\")\n",
    "    plt.ylabel(\"Accuracy\")\n",
    "    plt.show()\n",
    "print(\"The best accuracy is achieved at accuracy value = \",max_accuracy[0],\"with threshold = \",max_accuracy[1], \"and regularization coefficient =\",max_accuracy[2])"
   ]
  },
  {
   "cell_type": "markdown",
   "metadata": {
    "colab_type": "text",
    "id": "cTa2tMCPQmCV"
   },
   "source": [
    "### Task 5 (Report and Conclusion) (10 points)\n",
    "\n",
    "1.  Give a detailed report on the performance (that is, accuracy) of Models $\\mathcal{A}$, $\\mathcal{B}$ and $\\mathcal{C}$ on the respective training sets, the validation sets and finally the test. Explain any intuition you might have on what might be happening in each of the cases. Please avoid writing unnecessary details which are not pertinent. \n",
    "\n",
    "\n",
    "The results for the accuracy of the models A,B,C are calculated below. Their performance in terms of accuracy on each of the datasets is quite similar. For every model, the training accuracy will always be the highest because we are training on the training data itself. We use validation dataset to train the model better and make sure that it is not biased on the training data. From the accuracy of the testing dataset we come to know that it is performing quite well and has trained well on the validation and testing datasets. The accuracy of testing dataset always has a value that is lower than that of training dataset for each model.\n",
    "\n",
    "\n",
    "2.  Do you think accuracy, the metric which you have used to find the best hyperparameter in all the above tasks, a good metric in this scenario? Explain your choice.\n",
    "\n",
    "\n",
    "Accuracy is not a good metric to find the best hyperparameter. As in case of the valid_2 dataset which was highly unbalanced with almost 95% data having prediction no. So, even if our model would have predicted 100% no values, the accuracy would have been quite high. Which should not be the case. Hence, using confusion matrix the precision and recall values should be the metric for choosing the best hyperparameter.  \n"
   ]
  },
  {
   "cell_type": "code",
   "execution_count": 18,
   "metadata": {},
   "outputs": [
    {
     "data": {
      "text/plain": [
       "LogisticRegression(C=0.057, class_weight=None, dual=False, fit_intercept=True,\n",
       "                   intercept_scaling=1, l1_ratio=None, max_iter=100,\n",
       "                   multi_class='warn', n_jobs=None, penalty='l2',\n",
       "                   random_state=None, solver='liblinear', tol=0.0001, verbose=0,\n",
       "                   warm_start=False)"
      ]
     },
     "execution_count": 18,
     "metadata": {},
     "output_type": "execute_result"
    }
   ],
   "source": [
    "# model A on test data \n",
    "clf1 = LogisticRegression(penalty='l2', C=max_c, solver='liblinear')\n",
    "clf1.fit(X_train, y_train)"
   ]
  },
  {
   "cell_type": "code",
   "execution_count": 19,
   "metadata": {},
   "outputs": [
    {
     "name": "stdout",
     "output_type": "stream",
     "text": [
      "Accuracy of model A on training data is =  0.9024676850763808\n",
      "Accuracy of model A on validation data is =  0.9000552944429084\n",
      "Accuracy of model A on test data is =  0.9011390025434037\n"
     ]
    }
   ],
   "source": [
    "acc = clf1.score(X_test, y_test)\n",
    "acc_train = clf1.score(X_train, y_train)\n",
    "acc_valid = clf1.score(X_valid, y_valid)\n",
    "print(\"Accuracy of model A on training data is = \",acc_train)\n",
    "print(\"Accuracy of model A on validation data is = \",acc_valid)\n",
    "print(\"Accuracy of model A on test data is = \",acc)"
   ]
  },
  {
   "cell_type": "code",
   "execution_count": 20,
   "metadata": {},
   "outputs": [
    {
     "data": {
      "text/plain": [
       "LogisticRegression(C=0.041, class_weight=None, dual=False, fit_intercept=True,\n",
       "                   intercept_scaling=1, l1_ratio=None, max_iter=100,\n",
       "                   multi_class='warn', n_jobs=None, penalty='l2',\n",
       "                   random_state=None, solver='liblinear', tol=0.0001, verbose=0,\n",
       "                   warm_start=False)"
      ]
     },
     "execution_count": 20,
     "metadata": {},
     "output_type": "execute_result"
    }
   ],
   "source": [
    "# model B on test data\n",
    "clf2 = LogisticRegression(penalty='l2', C=max_c1, solver='liblinear')\n",
    "clf2.fit(X_train, y_train)"
   ]
  },
  {
   "cell_type": "code",
   "execution_count": 21,
   "metadata": {},
   "outputs": [
    {
     "name": "stdout",
     "output_type": "stream",
     "text": [
      "Accuracy of model B on training data is =  0.9019492638418469\n",
      "Accuracy of model B on validation data is =  0.9007464749792646\n",
      "Accuracy of model B on test data is =  0.9005860886873825\n"
     ]
    }
   ],
   "source": [
    "acc = clf2.score(X_test, y_test)\n",
    "acc_train = clf2.score(X_train, y_train)\n",
    "acc_valid = clf2.score(X_valid, y_valid)\n",
    "print(\"Accuracy of model B on training data is = \",acc_train)\n",
    "print(\"Accuracy of model B on validation data is = \",acc_valid)\n",
    "print(\"Accuracy of model B on test data is = \",acc)"
   ]
  },
  {
   "cell_type": "code",
   "execution_count": 22,
   "metadata": {},
   "outputs": [
    {
     "data": {
      "text/plain": [
       "LogisticRegression(C=0.01, class_weight=None, dual=False, fit_intercept=True,\n",
       "                   intercept_scaling=1, l1_ratio=None, max_iter=100,\n",
       "                   multi_class='warn', n_jobs=None, penalty='l2',\n",
       "                   random_state=None, solver='liblinear', tol=0.0001, verbose=0,\n",
       "                   warm_start=False)"
      ]
     },
     "execution_count": 22,
     "metadata": {},
     "output_type": "execute_result"
    }
   ],
   "source": [
    "# model C on test data\n",
    "clf3 = LogisticRegression(penalty='l2', C=1/max_accuracy[2],solver='liblinear')\n",
    "clf3.fit(X_train, y_train)\n",
    "# new_pred=(clf3.predict_proba(X_test)[:,:1]>=max_accuracy[1])\n",
    "# temp = accuracy_score(y_test, new_pred)\n",
    "# print(\"Accuracy of model A on test data is = \",temp)\n"
   ]
  },
  {
   "cell_type": "code",
   "execution_count": 23,
   "metadata": {},
   "outputs": [
    {
     "name": "stdout",
     "output_type": "stream",
     "text": [
      "Accuracy of model C on training data is =  0.8396004700352526\n",
      "Accuracy of model C on validation data is =  0.8411667127453691\n",
      "Accuracy of model C on test data is =  0.8368904124737366\n"
     ]
    }
   ],
   "source": [
    "new_pred=(clf3.predict_proba(X_test)[:,:1]>=max_accuracy[1])\n",
    "acc = accuracy_score(y_test, new_pred)\n",
    "\n",
    "new_pred_train=(clf3.predict_proba(X_train)[:,:1]>=max_accuracy[1])\n",
    "acc_train = accuracy_score(y_train, new_pred_train)\n",
    "\n",
    "new_pred_valid=(clf3.predict_proba(X_valid)[:,:1]>=max_accuracy[1])\n",
    "acc_valid = accuracy_score(y_valid, new_pred_valid)\n",
    "print(\"Accuracy of model C on training data is = \",acc_train)\n",
    "print(\"Accuracy of model C on validation data is = \",acc_valid)\n",
    "print(\"Accuracy of model C on test data is = \",acc)"
   ]
  },
  {
   "cell_type": "markdown",
   "metadata": {
    "colab_type": "text",
    "id": "3b62zDpk-O8v"
   },
   "source": [
    "## Problem 2 (50 points)\n",
    "\n",
    "Consider a regression problem in which the input variable $x$ has only one feature and the target variable $y$ is generated from the input variable $x$ by a polynomial $f(x)$. The function $f$ is such that $$f(x) = \\sum_{i=0}^d w_ix^i$$ Please note that a given polynomial function can be completely described by the vector of coefficients $\\mathbf{w}$.\n",
    "\n",
    "### Task 1 (5 points)\n",
    "\n",
    "Write a function in python which can take the degree of polynomial function as input. The code to generate vector coefficeints $\\mathbf{w}$ using this input is already provided. Plot the resulting function for $x \\in (-low, high)$. The function should be plot "
   ]
  },
  {
   "cell_type": "code",
   "execution_count": 24,
   "metadata": {
    "colab": {},
    "colab_type": "code",
    "id": "ivzCo28P_SFW"
   },
   "outputs": [
    {
     "data": {
      "image/png": "[encoded data removed]",
      "text/plain": [
       "<Figure size 432x288 with 1 Axes>"
      ]
     },
     "metadata": {
      "needs_background": "light"
     },
     "output_type": "display_data"
    },
    {
     "data": {
      "image/png": "[encoded data removed]",
      "text/plain": [
       "<Figure size 432x288 with 1 Axes>"
      ]
     },
     "metadata": {
      "needs_background": "light"
     },
     "output_type": "display_data"
    },
    {
     "data": {
      "image/png": "[encoded data removed]",
      "text/plain": [
       "<Figure size 432x288 with 1 Axes>"
      ]
     },
     "metadata": {
      "needs_background": "light"
     },
     "output_type": "display_data"
    }
   ],
   "source": [
    "import numpy as np\n",
    "from scipy.special import legendre\n",
    "import math\n",
    "import matplotlib.pyplot as plt \n",
    "def get_coefficients(degree):\n",
    "    \"\"\"\n",
    "    The coefficients returned are in the order w_0, w_1, ... , w_{degree}\n",
    "    \"\"\"\n",
    "    return legendre(degree).coefficients[::-1]\n",
    "\n",
    "def visualize_function(degree, low, high):\n",
    "    x = np.linspace(low,high,num = 100)\n",
    "    w = get_coefficients(degree)\n",
    "    power_x=[]\n",
    "    y = []\n",
    "    for i in range(len(x)):\n",
    "        power_x = []\n",
    "        for j in range (0,degree+1):\n",
    "            power_x.append(w[j]*math.pow(x[i],j))\n",
    "        y.append(sum(power_x))\n",
    "    plt.title(\"Graph for degree \"+ str(degree) +\" in range (\"+ str(low) + \",\" + str(high) +\")\")\n",
    "    plt.plot(x,y)\n",
    "    plt.xlabel(\"X\")\n",
    "    plt.ylabel(\"function(x)\")\n",
    "      \n",
    "## TEST CASES (The following lines should plot a function)\n",
    "visualize_function(3, -1, 1)\n",
    "plt.show()\n",
    "visualize_function(4, -1, 1)\n",
    "plt.show()\n",
    "visualize_function(6, -1, 1)\n",
    "plt.show()"
   ]
  },
  {
   "cell_type": "markdown",
   "metadata": {
    "colab_type": "text",
    "id": "z8Mm1YGNBH5u"
   },
   "source": [
    "### Task 2 (5 points)\n",
    "\n",
    "Write a function in python that randomly generates a dataset (training data + test data). The function should take the degree of target polynomial as input along with the number of points that should be generated for both the training and the test sets. The polynomial will be represented by the vector of coefficients. The code to calculate these coefficients has been provided. The function should also add random normal noise to the target -- i.e. the noise should be drawn from a normal distribution with mean $\\mu=0$ and standard deviation = $\\sigma^2$. Thus: \n",
    "$$y=\\sum_{i=0}^d w_ix^i + \\mathcal{N}(0, \\sigma^2)$$\n",
    "\n"
   ]
  },
  {
   "cell_type": "code",
   "execution_count": 25,
   "metadata": {
    "colab": {},
    "colab_type": "code",
    "id": "ZZ1zxLPvCyDt"
   },
   "outputs": [],
   "source": [
    "def generate_dataset(degree, n_train, n_test, sigma):\n",
    "    \"\"\"\n",
    "    - n_train - Number of training samples\n",
    "    - n_test - Number of test samples\n",
    "    - X_train is an array of size (n_train $\\times$ 1)\n",
    "    - y_train is an array of size (n_train $\\times$ 1)\n",
    "    - X_test is an array of size (n_test $\\times$ 1)\n",
    "    - y_test is an array of size (n_test $\\times$ 1)\n",
    "    \"\"\"\n",
    "    \n",
    "    low = -1\n",
    "    high = 1\n",
    "    y_test = []\n",
    "    y_train = []\n",
    "    X_train =[]\n",
    "    X_test = []\n",
    "    X = np.linspace(low,high,num = n_train + n_test)\n",
    "    for i in range(0,len(X),2):\n",
    "        X_train.append(X[i])\n",
    "    for i in range(1,len(X),2):\n",
    "        X_test.append(X[i])\n",
    "#     X_train = np.linspace(low,high,num = n_train)\n",
    "#     X_test = np.linspace(low,high,num = n_test)\n",
    "    w = get_coefficients(degree)\n",
    "    power_xtrain=[]\n",
    "    power_xtest=[]\n",
    "    \n",
    "    if sigma != 0:\n",
    "        noise_train = np.random.normal(loc=0,scale=sigma,size=n_train)\n",
    "        noise_test = np.random.normal(loc=0,scale=sigma,size=n_test)\n",
    "        \n",
    "        for i in range(len(X_train)):\n",
    "            power_xtrain = []\n",
    "            for j in range (0,degree+1):\n",
    "                power_xtrain.append(w[j]*math.pow(X_train[i],j))\n",
    "            power_xtrain = sum(power_xtrain) + noise_train[i]\n",
    "            y_train.append(power_xtrain)\n",
    "\n",
    "\n",
    "        for i in range(len(X_test)):\n",
    "            power_xtest = []\n",
    "            for j in range (0,degree+1):\n",
    "                power_xtest.append(w[j]*math.pow(X_test[i],j))\n",
    "            power_xtest = sum(power_xtest) + noise_test[i]\n",
    "            y_test.append(power_xtest)\n",
    "\n",
    "    else:\n",
    "        for i in range(len(X_train)):\n",
    "            power_xtrain = []\n",
    "            for j in range (0,degree+1):\n",
    "                power_xtrain.append(w[j]*math.pow(X_train[i],j))\n",
    "            power_xtrain = sum(power_xtrain)\n",
    "            y_train.append(power_xtrain)\n",
    "\n",
    "\n",
    "        for i in range(len(X_test)):\n",
    "            power_xtest = []\n",
    "            for j in range (0,degree+1):\n",
    "                power_xtest.append(w[j]*math.pow(X_test[i],j))\n",
    "            power_xtest = sum(power_xtest)\n",
    "            y_test.append(power_xtest)\n",
    "    X_train = np.array(X_train)\n",
    "    X_test = np.array(X_test)\n",
    "    y_train = np.array(y_train)\n",
    "    y_test = np.array(y_test)\n",
    "    return X_train, y_train, X_test, y_test"
   ]
  },
  {
   "cell_type": "markdown",
   "metadata": {
    "colab_type": "text",
    "id": "et9gTUzy_Sn9"
   },
   "source": [
    "### Task 3 (20 points)\n",
    "\n",
    "1.   Use the function written in Task 2 to generate a dataset of degree $10$, with $20$ samples each in the training and test sets. The standard deviation of the noise should be $0.2$.\n",
    "2.   Plot the generated points of the train set over the function. Make use the function you wrote in Task 1 to do so. The resultant plot should not only contain the function in blue color but also the generated points in the train set in red color.\n",
    "3.   Fit two linear regressions models: $\\mathcal{A}$ and $\\mathcal{B}$ on the given training data. Model $\\mathcal{A}$ should be quadratic and Model $\\mathcal{B}$ should be of degree $10$. How would you create such models?\n",
    "4. Calculate the training error and testing error on both these models and report them nicely in a table.\n",
    "5. Explain the results:\n",
    " - Are the results as expected or surprising? Explain your stance. \n",
    "\n",
    "\n",
    "Answer :\n",
    "\n",
    "\n",
    "The result is as expected. The error for the test data is more than that of train which is almost always the case. The error set for polynomial of degree 2 has values greater than that of 10. This is obvious as polynomial of degree 10 can fit points better than that of degree 2 for the same training set. \n",
    " - Give a detailed explanation of why this happens.\n",
    "\n",
    "\n",
    "Answer :\n",
    "\n",
    "\n",
    "We have calculated the polynomial function f(x) that is, the curve and the points to be plotted with the same legendre coefficients. The only difference is the noise that is present because of which the points do not lie on the line and deviate from the line. As we increase the degree of the polynomial it will fit more points, but that might not always be ideal as it may lead to overfitting.\n",
    "\n",
    "\n",
    " **Hint**: You are free (in fact encouraged) to design new experiments under the same paradigm to understand what is happening. You can buttress your explanation with any plots which you might generate from such new experiments.\n",
    "\n",
    " \n",
    "Note: _There is no preference over the size of the answer but please note that you shouldn't write anything that is not pertinent. While being terse, your answer should clearly convey the intuition. Also, use logical number code/text cells---i.e. every subquestion in a given task which can be considered a logical unit should be present in one cell. Do not make one cell unnecessarily long by putting multiple answers in it or split a given answer over multiple cells. Use your best judgement."
   ]
  },
  {
   "cell_type": "code",
   "execution_count": 32,
   "metadata": {
    "scrolled": false
   },
   "outputs": [
    {
     "name": "stdout",
     "output_type": "stream",
     "text": [
      "train error 0.11698510357182612\n",
      "test error 0.13868591232179134\n",
      "train error 0.004990912334012783\n",
      "test error 0.1934938119717766\n"
     ]
    },
    {
     "data": {
      "text/html": [
       "<div>\n",
       "<style scoped>\n",
       "    .dataframe tbody tr th:only-of-type {\n",
       "        vertical-align: middle;\n",
       "    }\n",
       "\n",
       "    .dataframe tbody tr th {\n",
       "        vertical-align: top;\n",
       "    }\n",
       "\n",
       "    .dataframe thead th {\n",
       "        text-align: right;\n",
       "    }\n",
       "</style>\n",
       "<table border=\"1\" class=\"dataframe\">\n",
       "  <thead>\n",
       "    <tr style=\"text-align: right;\">\n",
       "      <th></th>\n",
       "      <th>degree</th>\n",
       "      <th>train_error</th>\n",
       "      <th>test_error</th>\n",
       "    </tr>\n",
       "  </thead>\n",
       "  <tbody>\n",
       "    <tr>\n",
       "      <th>0</th>\n",
       "      <td>2</td>\n",
       "      <td>0.116985</td>\n",
       "      <td>0.138686</td>\n",
       "    </tr>\n",
       "    <tr>\n",
       "      <th>1</th>\n",
       "      <td>10</td>\n",
       "      <td>0.004991</td>\n",
       "      <td>0.193494</td>\n",
       "    </tr>\n",
       "  </tbody>\n",
       "</table>\n",
       "</div>"
      ],
      "text/plain": [
       "   degree  train_error  test_error\n",
       "0       2     0.116985    0.138686\n",
       "1      10     0.004991    0.193494"
      ]
     },
     "execution_count": 32,
     "metadata": {},
     "output_type": "execute_result"
    },
    {
     "data": {
      "image/png": "[encoded data removed]",
      "text/plain": [
       "<Figure size 432x288 with 1 Axes>"
      ]
     },
     "metadata": {
      "needs_background": "light"
     },
     "output_type": "display_data"
    }
   ],
   "source": [
    "from sklearn.linear_model import LinearRegression\n",
    "from sklearn.preprocessing import PolynomialFeatures\n",
    "from sklearn.metrics import mean_squared_error\n",
    "X_train, y_train, X_test, y_test = generate_dataset(10,20,20,0.2)\n",
    "\n",
    "\n",
    "visualize_function(10,-1,1)\n",
    "plt.scatter(X_train,y_train,color=\"red\")\n",
    "\n",
    "X_train = X_train.reshape(len(X_train),1)\n",
    "X_test = X_test.reshape(len(X_test),1)\n",
    "\n",
    "\n",
    "# model A\n",
    "model_A = PolynomialFeatures(2)\n",
    "X_trainA= model_A.fit_transform(X_train)\n",
    "\n",
    "X_testA= model_A.fit_transform(X_test)\n",
    "\n",
    "\n",
    "linear_A= LinearRegression().fit(X_trainA,y_train)\n",
    "y_pred_train = linear_A.predict(X_trainA)\n",
    "train_error = mean_squared_error(y_train,y_pred_train)\n",
    "# print(\"train error\",train_error)\n",
    "y_pred_test = linear_A.predict(X_testA)\n",
    "test_error = mean_squared_error(y_test,y_pred_test)\n",
    "# print(\"test error\",test_error)\n",
    "\n",
    "# model B\n",
    "model_B = PolynomialFeatures(10)\n",
    "X_trainB= model_B.fit_transform(X_train)\n",
    "\n",
    "X_testB= model_B.fit_transform(X_test)\n",
    "\n",
    "\n",
    "linear_B= LinearRegression().fit(X_trainB,y_train)\n",
    "y_pred_train = linear_B.predict(X_trainB)\n",
    "train_error1 = mean_squared_error(y_train,y_pred_train)\n",
    "# print(\"train error\",train_error1)\n",
    "y_pred_test = linear_B.predict(X_testB)\n",
    "test_error1 = mean_squared_error(y_test,y_pred_test)\n",
    "# print(\"test error\", test_error1)\n",
    "\n",
    "data = [[2, train_error,test_error], [10, train_error1, test_error1]]\n",
    "\n",
    "df = pd.DataFrame(data, columns=['degree', 'train_error', 'test_error'])\n",
    "\n",
    "df.head()"
   ]
  },
  {
   "cell_type": "markdown",
   "metadata": {
    "colab_type": "text",
    "id": "APUqEUWUGmXo"
   },
   "source": [
    "### Task 4 (20 points)\n",
    "\n",
    "1.  Use the function written in Task 2 to generate a dataset of degree 45, with 20 samples each in the training and test sets. There should be no noise in the samples.\n",
    "2.  Repeat steps 2 to 4 from Task 3 for this dataset.\n",
    "3.  This target doesn't have noise like the previous one. Does this make the result surprising? Explain your stance. Also give a detailed explanation of why this happens. \n",
    "\n",
    "\n",
    "Again the result is not surprising here. Because there is zero noise, the polynomial with degree 45 will fit all the points. But, for the train and test error, using a model with degree 2 and 10, the models will give us a huge error. Because we are fitting data which is generated using degree 45 with 2 and 10 degree models. They will always underfit and have a huge error.\n",
    "\n",
    "**Hint**: You are free (in fact encouraged) to design new experiements under the same paradigm to understand what is happening. You can buttress your explanation with any plots which you might generate from such new experiments."
   ]
  },
  {
   "cell_type": "code",
   "execution_count": 35,
   "metadata": {},
   "outputs": [
    {
     "data": {
      "text/html": [
       "<div>\n",
       "<style scoped>\n",
       "    .dataframe tbody tr th:only-of-type {\n",
       "        vertical-align: middle;\n",
       "    }\n",
       "\n",
       "    .dataframe tbody tr th {\n",
       "        vertical-align: top;\n",
       "    }\n",
       "\n",
       "    .dataframe thead th {\n",
       "        text-align: right;\n",
       "    }\n",
       "</style>\n",
       "<table border=\"1\" class=\"dataframe\">\n",
       "  <thead>\n",
       "    <tr style=\"text-align: right;\">\n",
       "      <th></th>\n",
       "      <th>degree</th>\n",
       "      <th>train_error</th>\n",
       "      <th>test_error</th>\n",
       "    </tr>\n",
       "  </thead>\n",
       "  <tbody>\n",
       "    <tr>\n",
       "      <th>0</th>\n",
       "      <td>2</td>\n",
       "      <td>1.508552e+09</td>\n",
       "      <td>5.502541e+08</td>\n",
       "    </tr>\n",
       "    <tr>\n",
       "      <th>1</th>\n",
       "      <td>10</td>\n",
       "      <td>2.084242e+06</td>\n",
       "      <td>5.964186e+07</td>\n",
       "    </tr>\n",
       "  </tbody>\n",
       "</table>\n",
       "</div>"
      ],
      "text/plain": [
       "   degree   train_error    test_error\n",
       "0       2  1.508552e+09  5.502541e+08\n",
       "1      10  2.084242e+06  5.964186e+07"
      ]
     },
     "execution_count": 35,
     "metadata": {},
     "output_type": "execute_result"
    },
    {
     "data": {
      "image/png": "[encoded data removed]",
      "text/plain": [
       "<Figure size 432x288 with 1 Axes>"
      ]
     },
     "metadata": {
      "needs_background": "light"
     },
     "output_type": "display_data"
    }
   ],
   "source": [
    "X_train45, y_train45, X_test45, y_test45 = generate_dataset(45,20,20,0)\n",
    "\n",
    "visualize_function(45,-1,1)\n",
    "plt.scatter(X_train45,y_train45,color=\"red\")\n",
    "\n",
    "X_train45 = X_train45.reshape(len(X_train45),1)\n",
    "X_test45 = X_test45.reshape(len(X_test45),1)\n",
    "\n",
    "# model A\n",
    "model_A = PolynomialFeatures(2)\n",
    "X_trainA45= model_A.fit_transform(X_train45)\n",
    "# X_trainA45.shape\n",
    "\n",
    "X_testA45= model_A.fit_transform(X_test45)\n",
    "X_testA45.shape\n",
    "\n",
    "linear_A= LinearRegression().fit(X_trainA45,y_train45)\n",
    "y_pred_train45 = linear_A.predict(X_trainA45)\n",
    "train_error45 = mean_squared_error(y_train45,y_pred_train45)\n",
    "y_pred_test45 = linear_A.predict(X_testA45)\n",
    "test_error45=mean_squared_error(y_test45,y_pred_test45)\n",
    "\n",
    "# model B\n",
    "model_B = PolynomialFeatures(10)\n",
    "X_trainB45= model_B.fit_transform(X_train45)\n",
    "\n",
    "X_testB45= model_B.fit_transform(X_test45)\n",
    "\n",
    "\n",
    "linear_B= LinearRegression().fit(X_trainB45,y_train45)\n",
    "y_pred_train45 = linear_B.predict(X_trainB45)\n",
    "train_error145=mean_squared_error(y_train45,y_pred_train45)\n",
    "y_pred_test45 = linear_B.predict(X_testB45)\n",
    "test_error145=mean_squared_error(y_test45,y_pred_test45)\n",
    "\n",
    "data = [[2,train_error45,test_error45], [10, train_error145, test_error145]]\n",
    "\n",
    "df = pd.DataFrame(data, columns=['degree', 'train_error', 'test_error'])\n",
    "\n",
    "df.head()"
   ]
  },
  {
   "cell_type": "code",
   "execution_count": null,
   "metadata": {},
   "outputs": [],
   "source": []
  }
 ],
 "metadata": {
  "colab": {
   "collapsed_sections": [],
   "name": "Assignment2.ipynb",
   "provenance": []
  },
  "kernel_info": {
   "name": "python3"
  },
  "kernelspec": {
   "display_name": "Python 3",
   "language": "python",
   "name": "python3"
  },
  "language_info": {
   "codemirror_mode": {
    "name": "ipython",
    "version": 3
   },
   "file_extension": ".py",
   "mimetype": "text/x-python",
   "name": "python",
   "nbconvert_exporter": "python",
   "pygments_lexer": "ipython3",
   "version": "3.7.3"
  },
  "nteract": {
   "version": "0.15.0"
  }
 },
 "nbformat": 4,
 "nbformat_minor": 1
}

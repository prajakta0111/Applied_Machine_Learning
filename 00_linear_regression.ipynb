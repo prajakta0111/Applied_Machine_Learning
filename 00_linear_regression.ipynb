{
 "cells": [
  {
   "cell_type": "markdown",
   "metadata": {
    "colab_type": "text",
    "id": "fzMyE386oaaV"
   },
   "source": [
    "**Fall 2019**\n",
    "\n",
    "**P556: Applied Machine Learning**\n",
    "\n",
    "**Assignment #1**\n",
    "\n",
    "**Due date: September 18, 2019. 11:59 PM**\n",
    "\n",
    "DO NOT CHANGE THE FUNCTION DEFINITIONS UNLESS APPROVED BY AN AI."
   ]
  },
  {
   "cell_type": "markdown",
   "metadata": {
    "colab_type": "text",
    "id": "FJz8ZxU7opMy"
   },
   "source": [
    "# Problem #1: Linear Regression\n",
    "\n",
    "##  Problem 1.1 (25 points)\n",
    "\n",
    "Implement linear regression using gradient descent. Your implementation should be able to handle simple and multiple linear regression.\n",
    "\n",
    "Note 1: by implementation we mean that everything has to be written from scratch and that you cannot call a linear regression function from a library, such as sklearn. Usage of standard libraries, such as numpy, pandas, etc., is fine. If you are unsure about whether a library can be used, please contact the AIs well in advance of the submission date.\n",
    "\n",
    "Note 2: You are free to use sklearn to test whether your results match that from a battle-tested library. This is a great way to know before hand whether your submission is correct. Make sure to use the same parameters on both models before you spend an eternity debugging code that is correct but not returning the same values."
   ]
  },
  {
   "cell_type": "code",
   "execution_count": 1,
   "metadata": {},
   "outputs": [],
   "source": [
    "import pandas as pd"
   ]
  },
  {
   "cell_type": "code",
   "execution_count": 2,
   "metadata": {
    "colab": {},
    "colab_type": "code",
    "id": "dW1xPyXPoonO"
   },
   "outputs": [],
   "source": [
    "import numpy as np\n",
    "\n",
    "class linear_regression:\n",
    "    def __init__(self, learning_rate, iterations, \n",
    "               fit_intercept=True, normalize=False, coef=None):\n",
    "        self.fit_intercept = fit_intercept\n",
    "        self.normalize = normalize\n",
    "        self.learning_rate = learning_rate\n",
    "        self.iterations = iterations\n",
    "        self.coef = coef\n",
    "        self.min = 9999\n",
    "        \n",
    "    def mse(self, y_actual, y_pred):\n",
    "        return ((y_actual-y_pred)**2).sum()/len(y_pred)\n",
    "  \n",
    "    def fit(self, X, y):\n",
    "        \"\"\"\n",
    "        Fit linear model.\n",
    "        Parameters\n",
    "        ----------\n",
    "        X : array-like, shape (n_samples, n_features)\n",
    "            Training data\n",
    "        y : array_like, shape (n_samples, n_targets)\n",
    "            Target values.\n",
    "        \"\"\"\n",
    "        for i in range(self.iterations):\n",
    "            #predict y from y = mx + c\n",
    "            y_pred=self.predict(X)\n",
    "#             print(y_pred.shape)\n",
    "            #calculate loss\n",
    "#             loss = self.mse(y,y_pred)\n",
    "            loss = y_pred - y\n",
    "#             print(\"Loss \",loss)\n",
    "            #find gradient to minimize loss\n",
    "            gradient = X.T.dot(loss) / len(y)\n",
    "            cost = self.mse(y,y_pred)\n",
    "            if (cost<self.min):\n",
    "                self.min=cost\n",
    "#             print(cost)\n",
    "            #update coef\n",
    "            self.coef = self.coef - self.learning_rate * gradient\n",
    "#         print(\"The coefficients are:\")\n",
    "#         print(self.coef)\n",
    "\n",
    "    def predict(self, X):\n",
    "        \"\"\"Predict using the linear model\n",
    "        Parameters\n",
    "        ----------\n",
    "        X : array_like, shape (n_samples, n_features)\n",
    "            Samples.\n",
    "        Returns\n",
    "        -------\n",
    "        C : array, shape (n_samples,)\n",
    "            Returns predicted values.\n",
    "        \"\"\"\n",
    "#         print(X.shape)\n",
    "#         print(self.coef.shape)\n",
    "#         print(X.dot(self.coef).shape)\n",
    "        return X.dot(self.coef)"
   ]
  },
  {
   "cell_type": "markdown",
   "metadata": {
    "colab_type": "text",
    "id": "Man3c1JrhVbr"
   },
   "source": [
    "## Problem 1.2 (10 points)\n",
    "\n",
    "- Split the Boston Housing dataset into train and test sets (70% and 30%, respectively) (5 points). \n",
    "- Fit your linear regression implementation using the training set and print your model's coefficients. Make predictions for the test set using your fitted model (5 points)."
   ]
  },
  {
   "cell_type": "code",
   "execution_count": 3,
   "metadata": {
    "colab": {},
    "colab_type": "code",
    "id": "VEFBL6WwhXUz"
   },
   "outputs": [],
   "source": [
    "from sklearn.datasets import load_boston\n",
    "from sklearn.model_selection import train_test_split\n",
    "\n",
    "# Your code goes here\n",
    "boston = load_boston()\n",
    "df = pd.DataFrame(boston.data)\n",
    "X = df.iloc[:,0:12]\n",
    "y = df.iloc[:,-1]\n",
    "\n",
    "# find the mean of X\n",
    "x_mean= X.mean()\n",
    "y_mean= y.mean()\n",
    "# find the sd of X & y\n",
    "std_x = X.std()\n",
    "std_y = y.std()\n",
    "# normalization = (X - mean) / sd\n",
    "X = (X-x_mean)/std_x\n",
    "y = (y-y_mean)/std_y"
   ]
  },
  {
   "cell_type": "code",
   "execution_count": 4,
   "metadata": {},
   "outputs": [],
   "source": [
    "X_train, X_test, y_train, y_test= train_test_split(X, y, test_size=0.3)"
   ]
  },
  {
   "cell_type": "code",
   "execution_count": 5,
   "metadata": {},
   "outputs": [
    {
     "data": {
      "text/plain": [
       "((354, 12), (152, 12), (354,), (152,))"
      ]
     },
     "execution_count": 5,
     "metadata": {},
     "output_type": "execute_result"
    }
   ],
   "source": [
    "X_train.shape, X_test.shape, y_train.shape, y_test.shape"
   ]
  },
  {
   "cell_type": "code",
   "execution_count": 6,
   "metadata": {},
   "outputs": [],
   "source": [
    "# np.random.randint?"
   ]
  },
  {
   "cell_type": "code",
   "execution_count": 7,
   "metadata": {},
   "outputs": [],
   "source": [
    "linear = linear_regression(0.01, 50, False, False, np.random.randint(10, size=12))"
   ]
  },
  {
   "cell_type": "code",
   "execution_count": 8,
   "metadata": {},
   "outputs": [],
   "source": [
    "linear.fit(X_train,y_train)"
   ]
  },
  {
   "cell_type": "code",
   "execution_count": 9,
   "metadata": {},
   "outputs": [
    {
     "name": "stdout",
     "output_type": "stream",
     "text": [
      "The coefficients are: \n",
      " 0    -0.273363\n",
      "1     4.247201\n",
      "2     1.481289\n",
      "3     3.906879\n",
      "4     0.294851\n",
      "5     5.095538\n",
      "6     6.112667\n",
      "7     6.278130\n",
      "8     2.792764\n",
      "9     5.770312\n",
      "10    1.570004\n",
      "11    6.241038\n",
      "dtype: float64\n"
     ]
    }
   ],
   "source": [
    "print(\"The coefficients are: \\n\", linear.coef)"
   ]
  },
  {
   "cell_type": "code",
   "execution_count": 24,
   "metadata": {},
   "outputs": [
    {
     "name": "stdout",
     "output_type": "stream",
     "text": [
      "Minimum squared error is\n"
     ]
    },
    {
     "data": {
      "text/plain": [
       "69.41471683287571"
      ]
     },
     "execution_count": 24,
     "metadata": {},
     "output_type": "execute_result"
    }
   ],
   "source": [
    "print(\"Minimum squared error is\")\n",
    "linear.min"
   ]
  },
  {
   "cell_type": "code",
   "execution_count": 11,
   "metadata": {},
   "outputs": [],
   "source": [
    "predictions = linear.predict(X_test)"
   ]
  },
  {
   "cell_type": "markdown",
   "metadata": {
    "colab_type": "text",
    "id": "9FXqtD_KhZwV"
   },
   "source": [
    "## Problem 1.3 (10 points)\n",
    "\n",
    "Identify the variable or set of variables that will minimize the mean square error (MSE). Hint: this is where your function being able to handle simple and multiple regression becomes useful."
   ]
  },
  {
   "cell_type": "code",
   "execution_count": 12,
   "metadata": {
    "colab": {},
    "colab_type": "code",
    "id": "sFlcvY_piKus"
   },
   "outputs": [],
   "source": [
    "from sklearn.metrics import mean_squared_error\n",
    "from itertools import combinations"
   ]
  },
  {
   "cell_type": "code",
   "execution_count": 21,
   "metadata": {},
   "outputs": [
    {
     "name": "stdout",
     "output_type": "stream",
     "text": [
      "The minimum squared error and the corresponding set of column numbers are\n",
      "0.705582733941313\n",
      "[5]\n"
     ]
    }
   ],
   "source": [
    "length_df=df.shape[1] - 1\n",
    "# print(length_df)\n",
    "columns_list = list(df.columns)[:length_df]\n",
    "# print(columns_list)\n",
    "min_min=9999\n",
    "combo = []\n",
    "\n",
    "for i in range(1,length_df+1):\n",
    "    cc = list(combinations(columns_list,i))\n",
    "    for c in cc:\n",
    "        c = list(c)\n",
    "#         print(c)\n",
    "        linear = linear_regression(0.01, 50, False, False, np.random.randint(10, size=len(c)))\n",
    "        linear.fit(X_train.iloc[:,c],y_train)\n",
    "        if(linear.min<min_min):\n",
    "            min_min=linear.min\n",
    "            combo = c\n",
    "\n",
    "print(\"The minimum squared error and the corresponding set of column numbers are\")\n",
    "print(min_min)            \n",
    "print(combo)"
   ]
  },
  {
   "cell_type": "markdown",
   "metadata": {
    "colab_type": "text",
    "id": "KcqYa1U3iRQ1"
   },
   "source": [
    "## Problem 1.4 (5 points)\n",
    "\n",
    "1. How do you interpret that a variable causes a model's mean square error to increase? (2 points)\n",
    "  - Answer: While calculating MSE, the two parameters that we need are the actual values and the predicted values and we find out the error in our predictions with respect to the actual values. A large MSE value signifies that the predicted data varies highly from the actual data. The variables or the parameters in our dataset might not be always tightly bound to the parameter we are trying to predict. Including some variables might even take us further away from the intended prediction. Hence, choosing a set of variables that give the least answer for Mean Square error gives better or more accurate predictions. Lesser the value of MSE, more tightly bound and dependent the predictions are on the chosen set of variables.If all the variables, including the ones which highly vary from the mean value are chosen, it will result in less accurate prediction.\n",
    "2. Why we would want to normalize our variables? (1 point)\n",
    "  - Answer: In a dataset, there are various kinds of variables with different scales of measures. Like for a housing dataset, area of the bedroom is a huge scale (100 Sq ft) whereas number of bedrooms is a single unit measure. Here, area of the bedroom will dominate the prediction if it is not normalized. By normalization, we scale the variables to solve this problem and make the learning process efficient. Once the variables are on the same scale, it is easier to handle such data and process it for predictions\n",
    "3. A model fitted using the exact same split dataset with normalized values will generate the same coefficients as a model that was fitted using values that haven't been normalized. Clearly state whether that statement is true or false and explain your reasoning. (2 points)\n",
    "  - Answer: In my opinion, the normalized data will not generate the exact coefficients as the original not normalized data. When we normalize data, there will be a corresponding change in the coefficients as well, as the coefficients for these scaled entries will be calculated"
   ]
  },
  {
   "cell_type": "markdown",
   "metadata": {
    "colab_type": "text",
    "id": "RJSot41BkMrB"
   },
   "source": [
    "# Problem 2: Binary Classification\n",
    "\n",
    "## Problem 2.1 (5 points)\n",
    "\n",
    "Consider the binary classification problem of mapping a given input to two classes. Let $\\mathcal{X}=\\mathbb{R}^d$ and $\\mathcal{Y}=\\{+1, -1\\}$ be the input space and output space, respectively. In simple words, it means that the input has $d$ features and all of them are real valued, whereas the output can only take values $-1$ or $+1$. This is one of the most common problems in machine learning and many sophisticated methods exist to solve it. In the question, we will solve it using the concepts we have already learned in class. Let us assume the two sets of points can be separated using a straight line i.e. the samples are linearly separable. So if $d=2$, one should be able to draw a line to distinguish between the two classes. All points lying on side of the line should belong to a particular class (say $1$) and the points lying on the other side should belong to another class (say $2$). To see what this would look like,  your first task is as follows:\n",
    "\n",
    "Write a function that will randomly generate a dataset for this problem. Your function should randomly choose a line $l$, which can be denoted as $ax + by + c = 0$. According to basic high school geometry, the line divides the plane into two sides. On one side, $ax+by+c>0$ while on the other $ax+by+c<0$. Use this fact to randomly generate $k_0$ points on the side of class 0 (i.e. $y=-1$) and $k_1$ points on the side of class 1 (i.e. $y=1$). Create a plot of this dataset where all the points corresponding to one class are blue and those of the other class are green, the line dividing both classes should be red. Axes should be labeled.\n",
    "\n",
    "**Note**: Do not confuse the $x$ and $y$ in the equation of line $ax + by + c = 0$ with $\\mathcal{X} $ and $\\mathcal{Y}$. Instead imagine these $x$ and $y$ as the 2-D coordinate system on which you have different points which should lie on 2 sides of the line $ax + by + c = 0$. For example, there is a point (2,3) in the 2-D system where $x = 2$ and $y = 3$."
   ]
  },
  {
   "cell_type": "code",
   "execution_count": 14,
   "metadata": {
    "colab": {},
    "colab_type": "code",
    "id": "g96jFpGyMIFu"
   },
   "outputs": [],
   "source": [
    "from matplotlib import pyplot as plt\n",
    "def generate_dataset(k0, k1):\n",
    "    #generate coefficients randomly\n",
    "    a = np.random.randint(-1000,1000)\n",
    "    b = np.random.randint(-1000,1000)\n",
    "    c = np.random.randint(1,500)\n",
    "    \n",
    "    X = []\n",
    "    y = []\n",
    "    \n",
    "    #find x,y coordinates to plot the ax+by+c line\n",
    "    rx = np.random.randint(-500,500,size=30)\n",
    "    ry = -(a/b)*rx - (c/b)\n",
    "    plt.plot(rx,ry,'r-')\n",
    "    plt.xlabel('X')\n",
    "    plt.ylabel('Y')\n",
    "        \n",
    "    #generating dataset\n",
    "    \n",
    "    while k0!=0:\n",
    "        temp_x = np.random.randint(-500,500)\n",
    "        temp_y = np.random.randint(-500,500) \n",
    "        res = a*temp_x + b*temp_y + c\n",
    "        if (res<0):\n",
    "            k0-=1\n",
    "            X.append((temp_x, temp_y))\n",
    "            y.append(-1)\n",
    "#     print(X[:5])\n",
    "            \n",
    "    while k1!=0:\n",
    "        temp_x = np.random.randint(-500,500)\n",
    "        temp_y = np.random.randint(-500,500) \n",
    "        res = a*temp_x + b*temp_y + c\n",
    "        if (res>0):\n",
    "            k1-=1\n",
    "            X.append((temp_x, temp_y))\n",
    "            y.append(1)\n",
    "#     checking for the class label of each point in order to assign colors to each and plot\n",
    "\n",
    "    for i in range(len(X)):\n",
    "        res = a*X[i][0] + b*X[i][1] + c\n",
    "        if (res<0):\n",
    "            plt.plot(X[i][0], X[i][1], 'bo')\n",
    "        else:\n",
    "            plt.plot(X[i][0], X[i][1],'go')\n",
    "    \n",
    "    return X,y\n",
    "\n",
    "    \"\"\"\n",
    "    Parameters\n",
    "    ----------\n",
    "    k0 : integer, number of samples for class 0\n",
    "    k1 : integer, number of samples for class 1\n",
    "    \n",
    "    Returns\n",
    "    -------\n",
    "    X : array, shape (m, d), dimension numpy array where m is the number of \n",
    "    samples and d is the number of features \n",
    "\n",
    "    Y : array, (m, 1), dimension vector where m is the number of samples\n",
    "    \"\"\""
   ]
  },
  {
   "cell_type": "code",
   "execution_count": 19,
   "metadata": {},
   "outputs": [
    {
     "data": {
      "image/png": "[encoded data removed]",
      "text/plain": [
       "<Figure size 432x288 with 1 Axes>"
      ]
     },
     "metadata": {
      "needs_background": "light"
     },
     "output_type": "display_data"
    }
   ],
   "source": [
    "X,y = generate_dataset(20,20)"
   ]
  },
  {
   "cell_type": "markdown",
   "metadata": {
    "colab_type": "text",
    "id": "9mw15CFikXI1"
   },
   "source": [
    "## Problem 2.2 (35 points)\n",
    "\n",
    "If $\\mathcal{Y}$ is the variable you are trying to predict using a feature $\\mathcal{X}$ then in a typical Machine Learning problem, you are tasked with a target function $f$ which maps $\\mathcal{X}$ to $\\mathcal{Y}$ i.e. Find $f$ such that  $\\mathcal{Y}$  = $f(\\mathcal{X})$\n",
    "\n",
    "\n",
    "When you are given a dataset for which you do not have access the target function $f$, you have to learn it from the data. In this problem, we are going to learn the parameters of the line that separates the two classes for the dataset that we constructed in Problem 2.1. As we previously mentioned, that line can be represented as $ax + by + c = 0$.\n",
    "\n",
    "The goal here is to correctly find out the coefficients $a$, $b$, and $c$, represented below as $\\bf{w}$ which is a vector. The algorithm to find it is a simple iterative process: \n",
    "\n",
    "1. Randomly choose a $\\mathbf{w}$ to begin with.\n",
    "2. Keep on adjusting the value of $\\bf{w}$ as follows until all data samples are correctly classified:\n",
    "    1. Randomly choose a sample from the dataset without replacement and see if it is correctly classified. If yes,  move on to another sample.\n",
    "    2. If not,  then  update the weights as $\\mathbf{w}^{t+1} = \\mathbf{w}^t + y \\cdot \\mathbf{x}$\n",
    "    and go back to the previous step (of randomly chosing a sample)\n",
    "    \n",
    "        - $\\mathbf{w}^{t+1}$ is value of $\\mathbf{w}$ at iteration $t+1$\n",
    "        - $\\mathbf{w}^{t}$ is value of $\\mathbf{w}$ at iteration $t$\n",
    "        - $y$ is the class label for the sample under consideration\n",
    "        - $\\mathbf{x}$ is the data-point under consideration\n",
    "    \n",
    "    \n",
    "Write a function that implements this learning algorithm. The input to the function is going to be a dataset represented by the input variable $X$ and the target variable $y$. The output of the function should be the chosen $\\mathbf{w}$.\n",
    "\n"
   ]
  },
  {
   "cell_type": "code",
   "execution_count": 16,
   "metadata": {
    "colab": {},
    "colab_type": "code",
    "id": "SPk7AZaLkXSh"
   },
   "outputs": [],
   "source": [
    "def fit_line(X, y):\n",
    "    \n",
    "    for i in range(len(X)):\n",
    "        if (y[i]== -1):\n",
    "            plt.plot(X[i][0],X[i][1],'bo')\n",
    "        else:\n",
    "            plt.plot(X[i][0],X[i][1],'go')\n",
    "    \n",
    "    a = np.random.randint(-500,100)\n",
    "    b = np.random.randint(0,1000)\n",
    "    c = np.random.randint(1,500)\n",
    "    \n",
    "    rx = np.random.randint(-500,500,size=30)\n",
    "    ry = -(a/b)*rx - (c/b)\n",
    "    \n",
    "    y_p = []\n",
    "    # end when all points are correctly classified\n",
    "    while y != y_p:\n",
    "        y_p = []\n",
    "        for i in range(len(X)):\n",
    "            res = a*X[i][0] + b*X[i][1] + c\n",
    "            if (res < 0):\n",
    "                y_p.append(-1)\n",
    "            else :\n",
    "                y_p.append(1)\n",
    "\n",
    "            if y[i] != y_p[i]:\n",
    "                a = a + y[i]*X[i][0]\n",
    "                b = b + y[i]*X[i][1]\n",
    "                ry = -(a/b)*rx - (c/b)\n",
    "        plt.plot(rx,ry,'r-')\n",
    "        plt.xlabel('X')\n",
    "        plt.ylabel('Y')\n",
    "    \n",
    "\n",
    "    \"\"\"Predict using the binary classification model. Use the dataset generated \n",
    "    using generate_data() as input for this function.\n",
    "    \n",
    "    Parameters\n",
    "    ----------\n",
    "    X : array_like, shape (n_samples, n_features)\n",
    "        Samples.\n",
    "    y : array_like, shape (n_labels, 1)\n",
    "    \n",
    "    Returns\n",
    "    -------\n",
    "    w : array, shape (1,n_features)\n",
    "        Returns the final weight vector w.  \n",
    "    \"\"\"\n",
    "    "
   ]
  },
  {
   "cell_type": "code",
   "execution_count": 20,
   "metadata": {},
   "outputs": [
    {
     "data": {
      "image/png": "[encoded data removed]",
      "text/plain": [
       "<Figure size 432x288 with 1 Axes>"
      ]
     },
     "metadata": {
      "needs_background": "light"
     },
     "output_type": "display_data"
    }
   ],
   "source": [
    "fit_line(X,y)"
   ]
  },
  {
   "cell_type": "markdown",
   "metadata": {
    "colab_type": "text",
    "id": "SHc3t4e9MOxu"
   },
   "source": [
    "### Problem 2.3 (10 points)\n",
    "- Give an intuition of why the above algorithm converges for linearly separable data? We do not expect you to give a mathematic proof, but it would be great if you can provide one. You will get full points even if you just provide an intuition of a few lines. Including figures or mathematical equations is encouraged but not required. (5 points)\n",
    "\n",
    "  - Answer: Linearly separable data is when we can classify the data points in a 2 dimensional XY plane by a simple line between the the 2 classes. Binary classification is possible for the model above because the data is linearly separable. If the data is not linearly separable, a simple line equation in the form ax + by + c = 0 cannot be plotted to classify data that is not linearly separable. For example, data which lies in concentric circles which can only be classified by another circle between the 2 classes. The equation ax + by + c = 0, only accounts for a simple line and  can only take a linear form with different values of X and Y. Hence a straight line can only classify our data points into 2 parts.   \n",
    "\n",
    "- What happens when the data is not linearly separable? What can be done to salvage the situation?\n",
    "\n",
    "  - Answer: If the data is not linearly separable, this model cannot classify it into either of the class labels correctly as the classification is done by a straight line in our model. If the data is not linearly separable, in order to salvage the situation, we can remove the restriction of the classifying the data by a straight line and classify it by using non linear classification techniques like KNN. Depending on the distribution of the data, the suitable method for classification can be chosen. "
   ]
  },
  {
   "cell_type": "code",
   "execution_count": null,
   "metadata": {},
   "outputs": [],
   "source": []
  }
 ],
 "metadata": {
  "colab": {
   "name": "A1-F19.ipynb",
   "provenance": [],
   "version": "0.3.2"
  },
  "kernelspec": {
   "display_name": "Python 3",
   "language": "python",
   "name": "python3"
  },
  "language_info": {
   "codemirror_mode": {
    "name": "ipython",
    "version": 3
   },
   "file_extension": ".py",
   "mimetype": "text/x-python",
   "name": "python",
   "nbconvert_exporter": "python",
   "pygments_lexer": "ipython3",
   "version": "3.7.3"
  }
 },
 "nbformat": 4,
 "nbformat_minor": 1
}
